{
 "cells": [
  {
   "cell_type": "markdown",
   "metadata": {},
   "source": [
    "# script to do experiments described in paper: Deep Interest Evolution Network for Click-Through Rate Prediction\n",
    "\n",
    "## how to run\n",
    "\n",
    "1. Please run prepare_neg.ipynb first."
   ]
  },
  {
   "cell_type": "code",
   "execution_count": 7,
   "metadata": {},
   "outputs": [],
   "source": [
    "SEQ_MAX_LEN = 100 # maximum sequence length\n",
    "BATCH_SIZE = 128\n",
    "EMBEDDING_DIM = 18\n",
    "DNN_HIDDEN_SIZE = [200, 80]\n",
    "DNN_DROPOUT = 0.0\n",
    "TEST_RUN = False\n",
    "EPOCH = 2\n",
    "SEED = 10"
   ]
  },
  {
   "cell_type": "code",
   "execution_count": 5,
   "metadata": {},
   "outputs": [],
   "source": [
    "%matplotlib inline\n",
    "\n",
    "import itertools\n",
    "from collections import Counter, OrderedDict\n",
    "\n",
    "import random\n",
    "import numpy as np\n",
    "import pandas as pd\n",
    "import matplotlib.pyplot as plt\n",
    "\n",
    "import torch\n",
    "import torch.nn as nn\n",
    "import torch.optim as optim\n",
    "import torch.nn.functional as F\n",
    "from sklearn.metrics import roc_auc_score\n",
    "\n",
    "from prediction_flow.features import Number, Category, Sequence, Features\n",
    "from prediction_flow.transformers.column import (\n",
    "    StandardScaler, CategoryEncoder, SequenceEncoder)\n",
    "\n",
    "from prediction_flow.pytorch.data import Dataset\n",
    "from prediction_flow.pytorch import WideDeep, DeepFM, DNN, DIN, DIEN, AttentionGroup\n",
    "\n",
    "from prediction_flow.pytorch.functions import fit, predict, create_dataloader_fn"
   ]
  },
  {
   "cell_type": "code",
   "execution_count": 8,
   "metadata": {},
   "outputs": [
    {
     "data": {
      "text/plain": [
       "<torch._C.Generator at 0x7f6631bf0ef0>"
      ]
     },
     "execution_count": 8,
     "metadata": {},
     "output_type": "execute_result"
    }
   ],
   "source": [
    "random.seed(SEED)\n",
    "np.random.seed(SEED)\n",
    "torch.manual_seed(SEED)"
   ]
  },
  {
   "cell_type": "code",
   "execution_count": 9,
   "metadata": {},
   "outputs": [],
   "source": [
    "train_df = pd.read_csv(\n",
    "    \"./local_train.csv\", sep='\\t')\n",
    "\n",
    "valid_df = pd.read_csv(\n",
    "    \"./local_test.csv\", sep='\\t')"
   ]
  },
  {
   "cell_type": "code",
   "execution_count": 10,
   "metadata": {},
   "outputs": [],
   "source": [
    "if TEST_RUN:\n",
    "    train_df = train_df.sample(1000)\n",
    "    valid_df = valid_df.sample(1000)"
   ]
  },
  {
   "cell_type": "code",
   "execution_count": 11,
   "metadata": {},
   "outputs": [
    {
     "data": {
      "text/html": [
       "<div>\n",
       "<style scoped>\n",
       "    .dataframe tbody tr th:only-of-type {\n",
       "        vertical-align: middle;\n",
       "    }\n",
       "\n",
       "    .dataframe tbody tr th {\n",
       "        vertical-align: top;\n",
       "    }\n",
       "\n",
       "    .dataframe thead th {\n",
       "        text-align: right;\n",
       "    }\n",
       "</style>\n",
       "<table border=\"1\" class=\"dataframe\">\n",
       "  <thead>\n",
       "    <tr style=\"text-align: right;\">\n",
       "      <th></th>\n",
       "      <th>label</th>\n",
       "      <th>uid</th>\n",
       "      <th>mid</th>\n",
       "      <th>cat</th>\n",
       "      <th>hist_mids</th>\n",
       "      <th>hist_cats</th>\n",
       "      <th>neg_hist_mids</th>\n",
       "      <th>neg_hist_cats</th>\n",
       "    </tr>\n",
       "  </thead>\n",
       "  <tbody>\n",
       "    <tr>\n",
       "      <th>0</th>\n",
       "      <td>0</td>\n",
       "      <td>AZPJ9LUT0FEPY</td>\n",
       "      <td>B00AMNNTIA</td>\n",
       "      <td>Literature &amp; Fiction</td>\n",
       "      <td>0307744434\u00020062248391\u00020470530707\u00020978924622\u000215...</td>\n",
       "      <td>Books\u0002Books\u0002Books\u0002Books\u0002Books</td>\n",
       "      <td>1449710247\u00020810984164\u00020615633129\u00020962121940\u0002B0...</td>\n",
       "      <td>Books\u0002Books\u0002Books\u0002Books\u0002Literature &amp; Fiction</td>\n",
       "    </tr>\n",
       "    <tr>\n",
       "      <th>1</th>\n",
       "      <td>1</td>\n",
       "      <td>AZPJ9LUT0FEPY</td>\n",
       "      <td>0800731603</td>\n",
       "      <td>Books</td>\n",
       "      <td>0307744434\u00020062248391\u00020470530707\u00020978924622\u000215...</td>\n",
       "      <td>Books\u0002Books\u0002Books\u0002Books\u0002Books</td>\n",
       "      <td>0141017619\u00020736921680\u00020425258203\u0002160140462X\u000214...</td>\n",
       "      <td>Books\u0002Books\u0002Books\u0002Books\u0002Books</td>\n",
       "    </tr>\n",
       "    <tr>\n",
       "      <th>2</th>\n",
       "      <td>0</td>\n",
       "      <td>A2NRV79GKAU726</td>\n",
       "      <td>B003NNV10O</td>\n",
       "      <td>Russian</td>\n",
       "      <td>0814472869\u00020071462074\u00021583942300\u00020812538366\u0002B0...</td>\n",
       "      <td>Books\u0002Books\u0002Books\u0002Books\u0002Baking\u0002Books\u0002Books</td>\n",
       "      <td>051513287X\u00020231124694\u00021442409142\u00021118388461\u000219...</td>\n",
       "      <td>Books\u0002Books\u0002Books\u0002Books\u0002Books\u0002Books\u0002Books</td>\n",
       "    </tr>\n",
       "    <tr>\n",
       "      <th>3</th>\n",
       "      <td>1</td>\n",
       "      <td>A2NRV79GKAU726</td>\n",
       "      <td>B000UWJ91O</td>\n",
       "      <td>Books</td>\n",
       "      <td>0814472869\u00020071462074\u00021583942300\u00020812538366\u0002B0...</td>\n",
       "      <td>Books\u0002Books\u0002Books\u0002Books\u0002Baking\u0002Books\u0002Books</td>\n",
       "      <td>B00DNLWQ00\u00021250007119\u00020393077489\u00021591861179\u000202...</td>\n",
       "      <td>War\u0002Books\u0002Books\u0002Books\u0002Books\u0002Books\u0002Books</td>\n",
       "    </tr>\n",
       "    <tr>\n",
       "      <th>4</th>\n",
       "      <td>0</td>\n",
       "      <td>A2GEQVDX2LL4V3</td>\n",
       "      <td>0321334094</td>\n",
       "      <td>Books</td>\n",
       "      <td>0743596870\u00020374280991\u00021439140634\u00020976475731</td>\n",
       "      <td>Books\u0002Books\u0002Books\u0002Books</td>\n",
       "      <td>0764201816\u00020307265757\u00021466367741\u00020879462809</td>\n",
       "      <td>Books\u0002Books\u0002Books\u0002Books</td>\n",
       "    </tr>\n",
       "  </tbody>\n",
       "</table>\n",
       "</div>"
      ],
      "text/plain": [
       "   label             uid         mid                   cat  \\\n",
       "0      0   AZPJ9LUT0FEPY  B00AMNNTIA  Literature & Fiction   \n",
       "1      1   AZPJ9LUT0FEPY  0800731603                 Books   \n",
       "2      0  A2NRV79GKAU726  B003NNV10O               Russian   \n",
       "3      1  A2NRV79GKAU726  B000UWJ91O                 Books   \n",
       "4      0  A2GEQVDX2LL4V3  0321334094                 Books   \n",
       "\n",
       "                                           hist_mids  \\\n",
       "0  0307744434\u00020062248391\u00020470530707\u00020978924622\u000215...   \n",
       "1  0307744434\u00020062248391\u00020470530707\u00020978924622\u000215...   \n",
       "2  0814472869\u00020071462074\u00021583942300\u00020812538366\u0002B0...   \n",
       "3  0814472869\u00020071462074\u00021583942300\u00020812538366\u0002B0...   \n",
       "4        0743596870\u00020374280991\u00021439140634\u00020976475731   \n",
       "\n",
       "                                    hist_cats  \\\n",
       "0               Books\u0002Books\u0002Books\u0002Books\u0002Books   \n",
       "1               Books\u0002Books\u0002Books\u0002Books\u0002Books   \n",
       "2  Books\u0002Books\u0002Books\u0002Books\u0002Baking\u0002Books\u0002Books   \n",
       "3  Books\u0002Books\u0002Books\u0002Books\u0002Baking\u0002Books\u0002Books   \n",
       "4                     Books\u0002Books\u0002Books\u0002Books   \n",
       "\n",
       "                                       neg_hist_mids  \\\n",
       "0  1449710247\u00020810984164\u00020615633129\u00020962121940\u0002B0...   \n",
       "1  0141017619\u00020736921680\u00020425258203\u0002160140462X\u000214...   \n",
       "2  051513287X\u00020231124694\u00021442409142\u00021118388461\u000219...   \n",
       "3  B00DNLWQ00\u00021250007119\u00020393077489\u00021591861179\u000202...   \n",
       "4        0764201816\u00020307265757\u00021466367741\u00020879462809   \n",
       "\n",
       "                                  neg_hist_cats  \n",
       "0  Books\u0002Books\u0002Books\u0002Books\u0002Literature & Fiction  \n",
       "1                 Books\u0002Books\u0002Books\u0002Books\u0002Books  \n",
       "2     Books\u0002Books\u0002Books\u0002Books\u0002Books\u0002Books\u0002Books  \n",
       "3       War\u0002Books\u0002Books\u0002Books\u0002Books\u0002Books\u0002Books  \n",
       "4                       Books\u0002Books\u0002Books\u0002Books  "
      ]
     },
     "execution_count": 11,
     "metadata": {},
     "output_type": "execute_result"
    }
   ],
   "source": [
    "train_df.head()"
   ]
  },
  {
   "cell_type": "code",
   "execution_count": 12,
   "metadata": {},
   "outputs": [
    {
     "data": {
      "text/html": [
       "<div>\n",
       "<style scoped>\n",
       "    .dataframe tbody tr th:only-of-type {\n",
       "        vertical-align: middle;\n",
       "    }\n",
       "\n",
       "    .dataframe tbody tr th {\n",
       "        vertical-align: top;\n",
       "    }\n",
       "\n",
       "    .dataframe thead th {\n",
       "        text-align: right;\n",
       "    }\n",
       "</style>\n",
       "<table border=\"1\" class=\"dataframe\">\n",
       "  <thead>\n",
       "    <tr style=\"text-align: right;\">\n",
       "      <th></th>\n",
       "      <th>label</th>\n",
       "      <th>uid</th>\n",
       "      <th>mid</th>\n",
       "      <th>cat</th>\n",
       "      <th>hist_mids</th>\n",
       "      <th>hist_cats</th>\n",
       "      <th>neg_hist_mids</th>\n",
       "      <th>neg_hist_cats</th>\n",
       "    </tr>\n",
       "  </thead>\n",
       "  <tbody>\n",
       "    <tr>\n",
       "      <th>0</th>\n",
       "      <td>0</td>\n",
       "      <td>A3BI7R43VUZ1TY</td>\n",
       "      <td>B00JNHU0T2</td>\n",
       "      <td>Literature &amp; Fiction</td>\n",
       "      <td>0989464105\u0002B00B01691C\u00021477809732\u00021608442845</td>\n",
       "      <td>Books\u0002Literature &amp; Fiction\u0002Books\u0002Books</td>\n",
       "      <td>1440500177\u0002B00JRENU3Y\u00020802118615\u00020007285248</td>\n",
       "      <td>Books\u0002Literature &amp; Fiction\u0002Books\u0002Books</td>\n",
       "    </tr>\n",
       "    <tr>\n",
       "      <th>1</th>\n",
       "      <td>1</td>\n",
       "      <td>A3BI7R43VUZ1TY</td>\n",
       "      <td>0989464121</td>\n",
       "      <td>Books</td>\n",
       "      <td>0989464105\u0002B00B01691C\u00021477809732\u00021608442845</td>\n",
       "      <td>Books\u0002Literature &amp; Fiction\u0002Books\u0002Books</td>\n",
       "      <td>B00KFVKIL0\u0002B00KPBM8TA\u00021560850116\u00021599901218</td>\n",
       "      <td>Literature &amp; Fiction\u0002Herbal Remedies\u0002Books\u0002Books</td>\n",
       "    </tr>\n",
       "    <tr>\n",
       "      <th>2</th>\n",
       "      <td>0</td>\n",
       "      <td>A2Z3AHJPXG3ZNP</td>\n",
       "      <td>B0072YSPJ0</td>\n",
       "      <td>Literature &amp; Fiction</td>\n",
       "      <td>1478310960\u00021492231452\u00021477603425\u0002B00FRKLA6Q</td>\n",
       "      <td>Books\u0002Books\u0002Books\u0002Urban</td>\n",
       "      <td>1582702233\u00021439182450\u00020373296762\u00029963616089</td>\n",
       "      <td>Books\u0002Books\u0002Books\u0002Books</td>\n",
       "    </tr>\n",
       "    <tr>\n",
       "      <th>3</th>\n",
       "      <td>1</td>\n",
       "      <td>A2Z3AHJPXG3ZNP</td>\n",
       "      <td>B00G4I4I5U</td>\n",
       "      <td>Urban</td>\n",
       "      <td>1478310960\u00021492231452\u00021477603425\u0002B00FRKLA6Q</td>\n",
       "      <td>Books\u0002Books\u0002Books\u0002Urban</td>\n",
       "      <td>B00CH09DKY\u0002B007MSBKES\u00020679745890\u0002B00EZYZ7VO</td>\n",
       "      <td>Dogs\u0002Action &amp; Adventure\u0002Books\u0002Marketing</td>\n",
       "    </tr>\n",
       "    <tr>\n",
       "      <th>4</th>\n",
       "      <td>0</td>\n",
       "      <td>A2KDDPJUNWC5CA</td>\n",
       "      <td>0316228532</td>\n",
       "      <td>Books</td>\n",
       "      <td>0141326085\u0002031026622X\u00020316077046\u00020988649179\u000214...</td>\n",
       "      <td>Books\u0002Books\u0002Books\u0002Books\u0002Books</td>\n",
       "      <td>0435550268\u00020778313271\u0002B00DOM0YT8\u00021494965585\u0002B0...</td>\n",
       "      <td>Books\u0002Books\u0002Coming of Age\u0002Books\u0002Flower Arranging</td>\n",
       "    </tr>\n",
       "  </tbody>\n",
       "</table>\n",
       "</div>"
      ],
      "text/plain": [
       "   label             uid         mid                   cat  \\\n",
       "0      0  A3BI7R43VUZ1TY  B00JNHU0T2  Literature & Fiction   \n",
       "1      1  A3BI7R43VUZ1TY  0989464121                 Books   \n",
       "2      0  A2Z3AHJPXG3ZNP  B0072YSPJ0  Literature & Fiction   \n",
       "3      1  A2Z3AHJPXG3ZNP  B00G4I4I5U                 Urban   \n",
       "4      0  A2KDDPJUNWC5CA  0316228532                 Books   \n",
       "\n",
       "                                           hist_mids  \\\n",
       "0        0989464105\u0002B00B01691C\u00021477809732\u00021608442845   \n",
       "1        0989464105\u0002B00B01691C\u00021477809732\u00021608442845   \n",
       "2        1478310960\u00021492231452\u00021477603425\u0002B00FRKLA6Q   \n",
       "3        1478310960\u00021492231452\u00021477603425\u0002B00FRKLA6Q   \n",
       "4  0141326085\u0002031026622X\u00020316077046\u00020988649179\u000214...   \n",
       "\n",
       "                                hist_cats  \\\n",
       "0  Books\u0002Literature & Fiction\u0002Books\u0002Books   \n",
       "1  Books\u0002Literature & Fiction\u0002Books\u0002Books   \n",
       "2                 Books\u0002Books\u0002Books\u0002Urban   \n",
       "3                 Books\u0002Books\u0002Books\u0002Urban   \n",
       "4           Books\u0002Books\u0002Books\u0002Books\u0002Books   \n",
       "\n",
       "                                       neg_hist_mids  \\\n",
       "0        1440500177\u0002B00JRENU3Y\u00020802118615\u00020007285248   \n",
       "1        B00KFVKIL0\u0002B00KPBM8TA\u00021560850116\u00021599901218   \n",
       "2        1582702233\u00021439182450\u00020373296762\u00029963616089   \n",
       "3        B00CH09DKY\u0002B007MSBKES\u00020679745890\u0002B00EZYZ7VO   \n",
       "4  0435550268\u00020778313271\u0002B00DOM0YT8\u00021494965585\u0002B0...   \n",
       "\n",
       "                                      neg_hist_cats  \n",
       "0            Books\u0002Literature & Fiction\u0002Books\u0002Books  \n",
       "1  Literature & Fiction\u0002Herbal Remedies\u0002Books\u0002Books  \n",
       "2                           Books\u0002Books\u0002Books\u0002Books  \n",
       "3           Dogs\u0002Action & Adventure\u0002Books\u0002Marketing  \n",
       "4  Books\u0002Books\u0002Coming of Age\u0002Books\u0002Flower Arranging  "
      ]
     },
     "execution_count": 12,
     "metadata": {},
     "output_type": "execute_result"
    }
   ],
   "source": [
    "valid_df.head()"
   ]
  },
  {
   "cell_type": "markdown",
   "metadata": {},
   "source": [
    "# EDA"
   ]
  },
  {
   "cell_type": "code",
   "execution_count": 13,
   "metadata": {},
   "outputs": [],
   "source": [
    "def scale_eda(df):\n",
    "    print(df.shape)\n",
    "    print(df.uid.nunique())\n",
    "    print(df.mid.nunique())\n",
    "    print(df.groupby('label', as_index=False).uid.count())"
   ]
  },
  {
   "cell_type": "code",
   "execution_count": 14,
   "metadata": {},
   "outputs": [
    {
     "name": "stdout",
     "output_type": "stream",
     "text": [
      "(1086120, 8)\n",
      "543060\n",
      "261895\n",
      "   label     uid\n",
      "0      0  543060\n",
      "1      1  543060\n",
      "(121216, 8)\n",
      "60608\n",
      "75053\n",
      "   label    uid\n",
      "0      0  60608\n",
      "1      1  60608\n"
     ]
    }
   ],
   "source": [
    "scale_eda(train_df)\n",
    "scale_eda(valid_df)"
   ]
  },
  {
   "cell_type": "code",
   "execution_count": 15,
   "metadata": {},
   "outputs": [
    {
     "data": {
      "text/plain": [
       "['0307744434', '0062248391', '0470530707', '0978924622', '1590516400']"
      ]
     },
     "execution_count": 15,
     "metadata": {},
     "output_type": "execute_result"
    }
   ],
   "source": [
    "train_df.values[0][4].split('\\x02')"
   ]
  },
  {
   "cell_type": "markdown",
   "metadata": {},
   "source": [
    "**This data set is well balanced. Each user has two samples, pos sample and neg sample.**"
   ]
  },
  {
   "cell_type": "code",
   "execution_count": 16,
   "metadata": {},
   "outputs": [],
   "source": [
    "unique_cats = Counter(train_df.cat.values.tolist())"
   ]
  },
  {
   "cell_type": "code",
   "execution_count": 17,
   "metadata": {},
   "outputs": [],
   "source": [
    "unique_cats_in_hist = Counter(\n",
    "    itertools.chain(*train_df.hist_cats.apply(lambda x: x.split(\"\u0002\")).values.tolist()))"
   ]
  },
  {
   "cell_type": "code",
   "execution_count": 18,
   "metadata": {},
   "outputs": [
    {
     "name": "stdout",
     "output_type": "stream",
     "text": [
      "1459 1600 1459\n"
     ]
    }
   ],
   "source": [
    "print(len(unique_cats), len(unique_cats_in_hist),\n",
    "      len(np.intersect1d(list(unique_cats.keys()), list(unique_cats_in_hist.keys()))))"
   ]
  },
  {
   "cell_type": "markdown",
   "metadata": {},
   "source": [
    "**All categorys also appear in history categorys.**"
   ]
  },
  {
   "cell_type": "code",
   "execution_count": 19,
   "metadata": {},
   "outputs": [],
   "source": [
    "unique_mids = Counter(train_df.mid.values.tolist())"
   ]
  },
  {
   "cell_type": "code",
   "execution_count": 20,
   "metadata": {},
   "outputs": [],
   "source": [
    "unique_mids_in_hist = Counter(\n",
    "    itertools.chain(*train_df.hist_mids.apply(lambda x: x.split(\"\u0002\")).values.tolist()))"
   ]
  },
  {
   "cell_type": "code",
   "execution_count": 21,
   "metadata": {},
   "outputs": [
    {
     "name": "stdout",
     "output_type": "stream",
     "text": [
      "261895 367788 261701\n"
     ]
    }
   ],
   "source": [
    "print(len(unique_mids), len(unique_mids_in_hist),\n",
    "      len(np.intersect1d(list(unique_mids.keys()), list(unique_mids_in_hist.keys()))))"
   ]
  },
  {
   "cell_type": "markdown",
   "metadata": {},
   "source": [
    "**Most mids appears in history mids.**"
   ]
  },
  {
   "cell_type": "code",
   "execution_count": 22,
   "metadata": {},
   "outputs": [
    {
     "name": "stdout",
     "output_type": "stream",
     "text": [
      "There are 86.27769709405354% mid overlap between train and valid\n"
     ]
    }
   ],
   "source": [
    "print(\"There are {}% mid overlap between train and valid\".format(\n",
    "    100 * len(np.intersect1d(train_df.mid.unique(), valid_df.mid.unique())) / len(valid_df.mid.unique())))"
   ]
  },
  {
   "cell_type": "code",
   "execution_count": 23,
   "metadata": {},
   "outputs": [
    {
     "name": "stdout",
     "output_type": "stream",
     "text": [
      "There are 97.91208791208791% mid overlap between train and valid\n"
     ]
    }
   ],
   "source": [
    "print(\"There are {}% mid overlap between train and valid\".format(\n",
    "    100 * len(np.intersect1d(train_df.cat.unique(), valid_df.cat.unique())) / len(valid_df.cat.unique())))"
   ]
  },
  {
   "cell_type": "markdown",
   "metadata": {},
   "source": [
    "# define features"
   ]
  },
  {
   "cell_type": "code",
   "execution_count": 24,
   "metadata": {},
   "outputs": [],
   "source": [
    "cat_enc = SequenceEncoder(sep=\"\\x02\", min_cnt=1, max_len=SEQ_MAX_LEN)"
   ]
  },
  {
   "cell_type": "code",
   "execution_count": 25,
   "metadata": {},
   "outputs": [
    {
     "data": {
      "text/plain": [
       "<prediction_flow.transformers.column.sequence_encoder.SequenceEncoder at 0x7f6584b6cf28>"
      ]
     },
     "execution_count": 25,
     "metadata": {},
     "output_type": "execute_result"
    }
   ],
   "source": [
    "cat_enc.fit(train_df.hist_cats.values)"
   ]
  },
  {
   "cell_type": "code",
   "execution_count": 26,
   "metadata": {},
   "outputs": [],
   "source": [
    "cat_word2idx, cat_idx2word = cat_enc.word2idx, cat_enc.idx2word"
   ]
  },
  {
   "cell_type": "code",
   "execution_count": 27,
   "metadata": {},
   "outputs": [
    {
     "name": "stdout",
     "output_type": "stream",
     "text": [
      "1602\n"
     ]
    }
   ],
   "source": [
    "print(len(cat_word2idx))"
   ]
  },
  {
   "cell_type": "code",
   "execution_count": 28,
   "metadata": {},
   "outputs": [],
   "source": [
    "mid_enc = SequenceEncoder(sep=\"\\x02\", min_cnt=1, max_len=SEQ_MAX_LEN)"
   ]
  },
  {
   "cell_type": "code",
   "execution_count": 29,
   "metadata": {},
   "outputs": [
    {
     "data": {
      "text/plain": [
       "<prediction_flow.transformers.column.sequence_encoder.SequenceEncoder at 0x7f658463cd30>"
      ]
     },
     "execution_count": 29,
     "metadata": {},
     "output_type": "execute_result"
    }
   ],
   "source": [
    "mid_enc.fit(np.vstack([train_df.mid.values, train_df.hist_mids.values]))"
   ]
  },
  {
   "cell_type": "code",
   "execution_count": 30,
   "metadata": {},
   "outputs": [],
   "source": [
    "mid_word2idx, mid_idx2word = mid_enc.word2idx, mid_enc.idx2word"
   ]
  },
  {
   "cell_type": "code",
   "execution_count": 31,
   "metadata": {},
   "outputs": [
    {
     "name": "stdout",
     "output_type": "stream",
     "text": [
      "367984\n"
     ]
    }
   ],
   "source": [
    "print(len(mid_word2idx))"
   ]
  },
  {
   "cell_type": "code",
   "execution_count": 32,
   "metadata": {},
   "outputs": [],
   "source": [
    "number_features = []\n",
    "\n",
    "category_features = [\n",
    "    Category('mid',\n",
    "             CategoryEncoder(min_cnt=1, word2idx=mid_word2idx, idx2word=mid_idx2word),\n",
    "             embedding_name='mid'),\n",
    "    Category('cat',\n",
    "             CategoryEncoder(min_cnt=1, word2idx=cat_word2idx, idx2word=cat_idx2word),\n",
    "             embedding_name='cat'),\n",
    "]\n",
    "\n",
    "sequence_features = [\n",
    "    Sequence('hist_mids',\n",
    "             SequenceEncoder(sep=\"\\x02\", min_cnt=1, max_len=SEQ_MAX_LEN,\n",
    "                             word2idx=mid_word2idx, idx2word=mid_idx2word),\n",
    "             embedding_name='mid'),\n",
    "    Sequence('hist_cats',\n",
    "             SequenceEncoder(sep=\"\\x02\", min_cnt=1, max_len=SEQ_MAX_LEN,\n",
    "                             word2idx=cat_word2idx, idx2word=cat_idx2word),\n",
    "             embedding_name='cat')\n",
    "]\n",
    "\n",
    "features, train_loader, valid_loader = create_dataloader_fn(\n",
    "    number_features, category_features, sequence_features, BATCH_SIZE, train_df, 'label', valid_df, 4)"
   ]
  },
  {
   "cell_type": "code",
   "execution_count": 33,
   "metadata": {},
   "outputs": [],
   "source": [
    "def evaluation(model, df, dataloader):\n",
    "    preds = predict(model, dataloader)\n",
    "    return roc_auc_score(df['label'], preds.ravel())"
   ]
  },
  {
   "cell_type": "code",
   "execution_count": 34,
   "metadata": {},
   "outputs": [],
   "source": [
    "din_attention_groups = [\n",
    "    AttentionGroup(\n",
    "        name='group1',\n",
    "        pairs=[{'ad': 'mid', 'pos_hist': 'hist_mids'},\n",
    "               {'ad': 'cat', 'pos_hist': 'hist_cats'}],\n",
    "        hidden_layers=[80, 40], att_dropout=0.0)]\n",
    "\n",
    "gru_attention_groups = [\n",
    "    AttentionGroup(\n",
    "        name='group1',\n",
    "        pairs=[{'ad': 'mid', 'pos_hist': 'hist_mids'},\n",
    "               {'ad': 'cat', 'pos_hist': 'hist_cats'}],\n",
    "        hidden_layers=[80, 40], att_dropout=0.0, gru_type='GRU')]\n",
    "\n",
    "aigru_attention_groups = [\n",
    "    AttentionGroup(\n",
    "        name='group1',\n",
    "        pairs=[{'ad': 'mid', 'pos_hist': 'hist_mids'},\n",
    "               {'ad': 'cat', 'pos_hist': 'hist_cats'}],\n",
    "        hidden_layers=[80, 40], att_dropout=0.0, gru_type='AIGRU')]\n",
    "\n",
    "agru_attention_groups = [\n",
    "    AttentionGroup(\n",
    "        name='group1',\n",
    "        pairs=[{'ad': 'mid', 'pos_hist': 'hist_mids'},\n",
    "               {'ad': 'cat', 'pos_hist': 'hist_cats'}],\n",
    "        hidden_layers=[80, 40], att_dropout=0.0, gru_type='AGRU')]\n",
    "\n",
    "augru_attention_groups = [\n",
    "    AttentionGroup(\n",
    "        name='group1',\n",
    "        pairs=[{'ad': 'mid', 'pos_hist': 'hist_mids'},\n",
    "               {'ad': 'cat', 'pos_hist': 'hist_cats'}],\n",
    "        hidden_layers=[80, 40], att_dropout=0.0, gru_type='AUGRU')]\n",
    "\n",
    "models = [\n",
    "    ('DNN', DNN(features, 2, EMBEDDING_DIM, DNN_HIDDEN_SIZE,\n",
    "        final_activation='sigmoid', dropout=DNN_DROPOUT)),\n",
    "    \n",
    "    ('WideDeep', WideDeep(features,\n",
    "             wide_features=['mid', 'hist_mids', 'cat', 'hist_cats'],\n",
    "             deep_features=['mid', 'hist_mids', 'cat', 'hist_cats'],\n",
    "             cross_features=[('mid', 'hist_mids'), ('cat', 'hist_cats')],\n",
    "             num_classes=2, embedding_size=EMBEDDING_DIM, hidden_layers=DNN_HIDDEN_SIZE,\n",
    "             final_activation='sigmoid', dropout=DNN_DROPOUT)),\n",
    "    \n",
    "    ('DeepFM', DeepFM(features, 2, EMBEDDING_DIM, DNN_HIDDEN_SIZE, \n",
    "           final_activation='sigmoid', dropout=DNN_DROPOUT)),\n",
    "    \n",
    "    ('DIN', DIN(features, din_attention_groups, 2, EMBEDDING_DIM, DNN_HIDDEN_SIZE,\n",
    "        final_activation='sigmoid', dropout=DNN_DROPOUT)),\n",
    "    \n",
    "    ('DIEN_gru', DIEN(features, gru_attention_groups, 2, EMBEDDING_DIM, DNN_HIDDEN_SIZE,\n",
    "         final_activation='sigmoid', dropout=DNN_DROPOUT)),\n",
    "    \n",
    "    ('DIEN_aigru', DIEN(features, aigru_attention_groups, 2, EMBEDDING_DIM, DNN_HIDDEN_SIZE,\n",
    "         final_activation='sigmoid', dropout=DNN_DROPOUT)),\n",
    "    \n",
    "    ('DIEN_agru', DIEN(features, agru_attention_groups, 2, EMBEDDING_DIM, DNN_HIDDEN_SIZE,\n",
    "         final_activation='sigmoid', dropout=DNN_DROPOUT)),\n",
    "    \n",
    "    ('DIEN_augru', DIEN(features, augru_attention_groups, 2, EMBEDDING_DIM, DNN_HIDDEN_SIZE,\n",
    "         final_activation='sigmoid', dropout=DNN_DROPOUT))\n",
    "]"
   ]
  },
  {
   "cell_type": "code",
   "execution_count": 35,
   "metadata": {},
   "outputs": [],
   "source": [
    "def run(models):\n",
    "    scores = OrderedDict()\n",
    "    model_loss_curves = OrderedDict()\n",
    "    for model_name, model in models:\n",
    "        print(model_name)\n",
    "        loss_func = nn.BCELoss()\n",
    "        optimizer = optim.Adam(model.parameters(), lr=0.001, weight_decay=1e-5)\n",
    "        losses = fit(EPOCH, model, loss_func, optimizer,\n",
    "            train_loader, valid_loader, notebook=True, auxiliary_loss_rate=1)\n",
    "        scores[model_name] = evaluation(model, valid_df, valid_loader)\n",
    "        model_loss_curves[model_name] = losses\n",
    "    return scores, model_loss_curves"
   ]
  },
  {
   "cell_type": "code",
   "execution_count": 36,
   "metadata": {},
   "outputs": [
    {
     "name": "stdout",
     "output_type": "stream",
     "text": [
      "DNN\n"
     ]
    },
    {
     "data": {
      "application/vnd.jupyter.widget-view+json": {
       "model_id": "7fbb7f9f597b47f69b13b9c5998d5e77",
       "version_major": 2,
       "version_minor": 0
      },
      "text/plain": [
       "HBox(children=(IntProgress(value=0, description='training routine', max=2, style=ProgressStyle(description_wid…"
      ]
     },
     "metadata": {},
     "output_type": "display_data"
    },
    {
     "data": {
      "application/vnd.jupyter.widget-view+json": {
       "model_id": "fd2587dc82474e80a63bfe510c84b490",
       "version_major": 2,
       "version_minor": 0
      },
      "text/plain": [
       "HBox(children=(IntProgress(value=0, description='train', max=8486, style=ProgressStyle(description_width='init…"
      ]
     },
     "metadata": {},
     "output_type": "display_data"
    },
    {
     "data": {
      "application/vnd.jupyter.widget-view+json": {
       "model_id": "c1d093792aaf487fbc5847c163eb213f",
       "version_major": 2,
       "version_minor": 0
      },
      "text/plain": [
       "HBox(children=(IntProgress(value=0, description='valid', max=947, style=ProgressStyle(description_width='initi…"
      ]
     },
     "metadata": {},
     "output_type": "display_data"
    },
    {
     "name": "stdout",
     "output_type": "stream",
     "text": [
      "GPU is available, transfer model to GPU.\n",
      "WideDeep\n"
     ]
    },
    {
     "data": {
      "application/vnd.jupyter.widget-view+json": {
       "model_id": "02c3966bdb354e919bb2952192667c79",
       "version_major": 2,
       "version_minor": 0
      },
      "text/plain": [
       "HBox(children=(IntProgress(value=0, description='training routine', max=2, style=ProgressStyle(description_wid…"
      ]
     },
     "metadata": {},
     "output_type": "display_data"
    },
    {
     "data": {
      "application/vnd.jupyter.widget-view+json": {
       "model_id": "e9581d10bd204e6dbe5a26a584db04f5",
       "version_major": 2,
       "version_minor": 0
      },
      "text/plain": [
       "HBox(children=(IntProgress(value=0, description='train', max=8486, style=ProgressStyle(description_width='init…"
      ]
     },
     "metadata": {},
     "output_type": "display_data"
    },
    {
     "data": {
      "application/vnd.jupyter.widget-view+json": {
       "model_id": "8434713aa4c841f9b65613df683130e8",
       "version_major": 2,
       "version_minor": 0
      },
      "text/plain": [
       "HBox(children=(IntProgress(value=0, description='valid', max=947, style=ProgressStyle(description_width='initi…"
      ]
     },
     "metadata": {},
     "output_type": "display_data"
    },
    {
     "name": "stdout",
     "output_type": "stream",
     "text": [
      "GPU is available, transfer model to GPU.\n",
      "DeepFM\n"
     ]
    },
    {
     "data": {
      "application/vnd.jupyter.widget-view+json": {
       "model_id": "1dec42dae7e0496a889c2f6591a10cb5",
       "version_major": 2,
       "version_minor": 0
      },
      "text/plain": [
       "HBox(children=(IntProgress(value=0, description='training routine', max=2, style=ProgressStyle(description_wid…"
      ]
     },
     "metadata": {},
     "output_type": "display_data"
    },
    {
     "data": {
      "application/vnd.jupyter.widget-view+json": {
       "model_id": "e847e08baae64a39bc1616962adf4033",
       "version_major": 2,
       "version_minor": 0
      },
      "text/plain": [
       "HBox(children=(IntProgress(value=0, description='train', max=8486, style=ProgressStyle(description_width='init…"
      ]
     },
     "metadata": {},
     "output_type": "display_data"
    },
    {
     "data": {
      "application/vnd.jupyter.widget-view+json": {
       "model_id": "a06bf1b36a34409180f2c5cbea4f8646",
       "version_major": 2,
       "version_minor": 0
      },
      "text/plain": [
       "HBox(children=(IntProgress(value=0, description='valid', max=947, style=ProgressStyle(description_width='initi…"
      ]
     },
     "metadata": {},
     "output_type": "display_data"
    },
    {
     "name": "stdout",
     "output_type": "stream",
     "text": [
      "GPU is available, transfer model to GPU.\n",
      "DIN\n"
     ]
    },
    {
     "data": {
      "application/vnd.jupyter.widget-view+json": {
       "model_id": "e6894f61520648b38caff6a688114ff3",
       "version_major": 2,
       "version_minor": 0
      },
      "text/plain": [
       "HBox(children=(IntProgress(value=0, description='training routine', max=2, style=ProgressStyle(description_wid…"
      ]
     },
     "metadata": {},
     "output_type": "display_data"
    },
    {
     "data": {
      "application/vnd.jupyter.widget-view+json": {
       "model_id": "4fda07da268b44be9e29e716d6a6bf5f",
       "version_major": 2,
       "version_minor": 0
      },
      "text/plain": [
       "HBox(children=(IntProgress(value=0, description='train', max=8486, style=ProgressStyle(description_width='init…"
      ]
     },
     "metadata": {},
     "output_type": "display_data"
    },
    {
     "data": {
      "application/vnd.jupyter.widget-view+json": {
       "model_id": "7b1dccbbad7a48c2a696fca9baed1018",
       "version_major": 2,
       "version_minor": 0
      },
      "text/plain": [
       "HBox(children=(IntProgress(value=0, description='valid', max=947, style=ProgressStyle(description_width='initi…"
      ]
     },
     "metadata": {},
     "output_type": "display_data"
    },
    {
     "name": "stdout",
     "output_type": "stream",
     "text": [
      "GPU is available, transfer model to GPU.\n",
      "DIEN_gru\n"
     ]
    },
    {
     "data": {
      "application/vnd.jupyter.widget-view+json": {
       "model_id": "d8175a1831094942a5de454e05d91270",
       "version_major": 2,
       "version_minor": 0
      },
      "text/plain": [
       "HBox(children=(IntProgress(value=0, description='training routine', max=2, style=ProgressStyle(description_wid…"
      ]
     },
     "metadata": {},
     "output_type": "display_data"
    },
    {
     "data": {
      "application/vnd.jupyter.widget-view+json": {
       "model_id": "da6461d19bc9409e8beeade92ab24b33",
       "version_major": 2,
       "version_minor": 0
      },
      "text/plain": [
       "HBox(children=(IntProgress(value=0, description='train', max=8486, style=ProgressStyle(description_width='init…"
      ]
     },
     "metadata": {},
     "output_type": "display_data"
    },
    {
     "data": {
      "application/vnd.jupyter.widget-view+json": {
       "model_id": "f945b88d677e4180aecb8decb9b51b39",
       "version_major": 2,
       "version_minor": 0
      },
      "text/plain": [
       "HBox(children=(IntProgress(value=0, description='valid', max=947, style=ProgressStyle(description_width='initi…"
      ]
     },
     "metadata": {},
     "output_type": "display_data"
    },
    {
     "name": "stdout",
     "output_type": "stream",
     "text": [
      "GPU is available, transfer model to GPU.\n",
      "DIEN_aigru\n"
     ]
    },
    {
     "data": {
      "application/vnd.jupyter.widget-view+json": {
       "model_id": "2aba28aff938494dbd712b5e65d9b9f1",
       "version_major": 2,
       "version_minor": 0
      },
      "text/plain": [
       "HBox(children=(IntProgress(value=0, description='training routine', max=2, style=ProgressStyle(description_wid…"
      ]
     },
     "metadata": {},
     "output_type": "display_data"
    },
    {
     "data": {
      "application/vnd.jupyter.widget-view+json": {
       "model_id": "00b085c979134a6f9da3d90c728c22ff",
       "version_major": 2,
       "version_minor": 0
      },
      "text/plain": [
       "HBox(children=(IntProgress(value=0, description='train', max=8486, style=ProgressStyle(description_width='init…"
      ]
     },
     "metadata": {},
     "output_type": "display_data"
    },
    {
     "data": {
      "application/vnd.jupyter.widget-view+json": {
       "model_id": "3e4b48c48a05458d82a66b80dc27b4ee",
       "version_major": 2,
       "version_minor": 0
      },
      "text/plain": [
       "HBox(children=(IntProgress(value=0, description='valid', max=947, style=ProgressStyle(description_width='initi…"
      ]
     },
     "metadata": {},
     "output_type": "display_data"
    },
    {
     "name": "stdout",
     "output_type": "stream",
     "text": [
      "GPU is available, transfer model to GPU.\n",
      "DIEN_agru\n"
     ]
    },
    {
     "data": {
      "application/vnd.jupyter.widget-view+json": {
       "model_id": "055fe36d1823434b91032e8f058637ee",
       "version_major": 2,
       "version_minor": 0
      },
      "text/plain": [
       "HBox(children=(IntProgress(value=0, description='training routine', max=2, style=ProgressStyle(description_wid…"
      ]
     },
     "metadata": {},
     "output_type": "display_data"
    },
    {
     "data": {
      "application/vnd.jupyter.widget-view+json": {
       "model_id": "0a16eec4e2fa4121a8089c85c41112b0",
       "version_major": 2,
       "version_minor": 0
      },
      "text/plain": [
       "HBox(children=(IntProgress(value=0, description='train', max=8486, style=ProgressStyle(description_width='init…"
      ]
     },
     "metadata": {},
     "output_type": "display_data"
    },
    {
     "data": {
      "application/vnd.jupyter.widget-view+json": {
       "model_id": "c845278be4c845188ab8a04b60e7d072",
       "version_major": 2,
       "version_minor": 0
      },
      "text/plain": [
       "HBox(children=(IntProgress(value=0, description='valid', max=947, style=ProgressStyle(description_width='initi…"
      ]
     },
     "metadata": {},
     "output_type": "display_data"
    },
    {
     "name": "stdout",
     "output_type": "stream",
     "text": [
      "GPU is available, transfer model to GPU.\n",
      "DIEN_augru\n"
     ]
    },
    {
     "data": {
      "application/vnd.jupyter.widget-view+json": {
       "model_id": "dfa1d0f1a97648c0b9cc8e91b46809d2",
       "version_major": 2,
       "version_minor": 0
      },
      "text/plain": [
       "HBox(children=(IntProgress(value=0, description='training routine', max=2, style=ProgressStyle(description_wid…"
      ]
     },
     "metadata": {},
     "output_type": "display_data"
    },
    {
     "data": {
      "application/vnd.jupyter.widget-view+json": {
       "model_id": "9da0519e5fde48acad9c0352178455a3",
       "version_major": 2,
       "version_minor": 0
      },
      "text/plain": [
       "HBox(children=(IntProgress(value=0, description='train', max=8486, style=ProgressStyle(description_width='init…"
      ]
     },
     "metadata": {},
     "output_type": "display_data"
    },
    {
     "data": {
      "application/vnd.jupyter.widget-view+json": {
       "model_id": "f1f332353c19486a937d3aeb3cdcd999",
       "version_major": 2,
       "version_minor": 0
      },
      "text/plain": [
       "HBox(children=(IntProgress(value=0, description='valid', max=947, style=ProgressStyle(description_width='initi…"
      ]
     },
     "metadata": {},
     "output_type": "display_data"
    },
    {
     "name": "stdout",
     "output_type": "stream",
     "text": [
      "GPU is available, transfer model to GPU.\n"
     ]
    }
   ],
   "source": [
    "scores1, model_loss_curves1 = run(models)"
   ]
  },
  {
   "cell_type": "code",
   "execution_count": 37,
   "metadata": {},
   "outputs": [
    {
     "name": "stdout",
     "output_type": "stream",
     "text": [
      "OrderedDict([('DNN', 0.7414861590544137), ('WideDeep', 0.7366498651126783), ('DeepFM', 0.7493579010827383), ('DIN', 0.7751056232180309), ('DIEN_gru', 0.7771685541807118), ('DIEN_aigru', 0.7738427067568526), ('DIEN_agru', 0.7807896280337772), ('DIEN_augru', 0.7816471855600924)])\n"
     ]
    }
   ],
   "source": [
    "print(scores1)"
   ]
  },
  {
   "cell_type": "code",
   "execution_count": 38,
   "metadata": {},
   "outputs": [
    {
     "name": "stdout",
     "output_type": "stream",
     "text": [
      "OrderedDict([('DNN', [{'train_loss': 0.6545418111215432, 'valid_loss': 0.6306317368681604, 'train_auxiliary_loss': 0, 'valid_auxiliary_loss': 0}, {'train_loss': 0.6006484859827803, 'valid_loss': 0.5946546539963232, 'train_auxiliary_loss': 0, 'valid_auxiliary_loss': 0}]), ('WideDeep', [{'train_loss': 0.6992310519463434, 'valid_loss': 0.6448254635618511, 'train_auxiliary_loss': 0, 'valid_auxiliary_loss': 0}, {'train_loss': 0.6043528134344365, 'valid_loss': 0.6019523961679991, 'train_auxiliary_loss': 0, 'valid_auxiliary_loss': 0}]), ('DeepFM', [{'train_loss': 0.9217421180679916, 'valid_loss': 0.6287330887511505, 'train_auxiliary_loss': 0, 'valid_auxiliary_loss': 0}, {'train_loss': 0.5938254600035651, 'valid_loss': 0.5880784660483367, 'train_auxiliary_loss': 0, 'valid_auxiliary_loss': 0}]), ('DIN', [{'train_loss': 0.6470800264317711, 'valid_loss': 0.6101615355284199, 'train_auxiliary_loss': 0, 'valid_auxiliary_loss': 0}, {'train_loss': 0.5630607244901257, 'valid_loss': 0.5642400029279607, 'train_auxiliary_loss': 0, 'valid_auxiliary_loss': 0}]), ('DIEN_gru', [{'train_loss': 0.6420232596232783, 'valid_loss': 0.60818177304273, 'train_auxiliary_loss': 0, 'valid_auxiliary_loss': 0}, {'train_loss': 0.5592777577072775, 'valid_loss': 0.5618925285314175, 'train_auxiliary_loss': 0, 'valid_auxiliary_loss': 0}]), ('DIEN_aigru', [{'train_loss': 0.64573271304629, 'valid_loss': 0.6104722710949825, 'train_auxiliary_loss': 0, 'valid_auxiliary_loss': 0}, {'train_loss': 0.5608341148719748, 'valid_loss': 0.5651352940227569, 'train_auxiliary_loss': 0, 'valid_auxiliary_loss': 0}]), ('DIEN_agru', [{'train_loss': 0.6416976842260987, 'valid_loss': 0.6146120481909014, 'train_auxiliary_loss': 0, 'valid_auxiliary_loss': 0}, {'train_loss': 0.5551212878369666, 'valid_loss': 0.5583103171057032, 'train_auxiliary_loss': 0, 'valid_auxiliary_loss': 0}]), ('DIEN_augru', [{'train_loss': 0.6400591503357239, 'valid_loss': 0.5996584904231639, 'train_auxiliary_loss': 0, 'valid_auxiliary_loss': 0}, {'train_loss': 0.5508024052308748, 'valid_loss': 0.5573866153342417, 'train_auxiliary_loss': 0, 'valid_auxiliary_loss': 0}])])\n"
     ]
    }
   ],
   "source": [
    "print(model_loss_curves1)"
   ]
  },
  {
   "cell_type": "code",
   "execution_count": 39,
   "metadata": {},
   "outputs": [],
   "source": [
    "number_features = []\n",
    "\n",
    "category_features = [\n",
    "    Category('mid',\n",
    "             CategoryEncoder(min_cnt=1, word2idx=mid_word2idx, idx2word=mid_idx2word),\n",
    "             embedding_name='mid'),\n",
    "    Category('cat',\n",
    "             CategoryEncoder(min_cnt=1, word2idx=cat_word2idx, idx2word=cat_idx2word),\n",
    "             embedding_name='cat'),\n",
    "]\n",
    "\n",
    "sequence_features = [\n",
    "    Sequence('hist_mids',\n",
    "             SequenceEncoder(sep=\"\u0002\", min_cnt=1, max_len=SEQ_MAX_LEN,\n",
    "                             word2idx=mid_word2idx, idx2word=mid_idx2word),\n",
    "             embedding_name='mid'),\n",
    "    Sequence('hist_cats',\n",
    "             SequenceEncoder(sep=\"\u0002\", min_cnt=1, max_len=SEQ_MAX_LEN,\n",
    "                             word2idx=cat_word2idx, idx2word=cat_idx2word),\n",
    "             embedding_name='cat'),\n",
    "    Sequence('neg_hist_mids',\n",
    "             SequenceEncoder(sep=\"\u0002\", min_cnt=1, max_len=SEQ_MAX_LEN,\n",
    "                             word2idx=mid_word2idx, idx2word=mid_idx2word),\n",
    "             embedding_name='mid'),\n",
    "    Sequence('neg_hist_cats',\n",
    "             SequenceEncoder(sep=\"\u0002\", min_cnt=1, max_len=SEQ_MAX_LEN,\n",
    "                             word2idx=cat_word2idx, idx2word=cat_idx2word),\n",
    "             embedding_name='cat')\n",
    "]\n",
    "\n",
    "features, train_loader, valid_loader = create_dataloader_fn(\n",
    "    number_features, category_features, sequence_features, BATCH_SIZE, train_df, 'label', valid_df, 4)"
   ]
  },
  {
   "cell_type": "code",
   "execution_count": 40,
   "metadata": {},
   "outputs": [],
   "source": [
    "augru_attention_groups_with_neg = [\n",
    "    AttentionGroup(\n",
    "        name='group1',\n",
    "        pairs=[{'ad': 'mid', 'pos_hist': 'hist_mids', 'neg_hist': 'neg_hist_mids'},\n",
    "               {'ad': 'cat', 'pos_hist': 'hist_cats', 'neg_hist': 'neg_hist_cats'}],\n",
    "        hidden_layers=[80, 40], att_dropout=0.0, gru_type='AUGRU')]"
   ]
  },
  {
   "cell_type": "code",
   "execution_count": 41,
   "metadata": {},
   "outputs": [],
   "source": [
    "models = [\n",
    "    ('DIEN', DIEN(features, augru_attention_groups_with_neg, 2, EMBEDDING_DIM, DNN_HIDDEN_SIZE,\n",
    "         final_activation='sigmoid', dropout=DNN_DROPOUT, use_negsampling=True))\n",
    "]"
   ]
  },
  {
   "cell_type": "code",
   "execution_count": 42,
   "metadata": {
    "scrolled": false
   },
   "outputs": [
    {
     "name": "stdout",
     "output_type": "stream",
     "text": [
      "DIEN\n"
     ]
    },
    {
     "data": {
      "application/vnd.jupyter.widget-view+json": {
       "model_id": "c09ca2a683b340229c9fc53a92de0996",
       "version_major": 2,
       "version_minor": 0
      },
      "text/plain": [
       "HBox(children=(IntProgress(value=0, description='training routine', max=2, style=ProgressStyle(description_wid…"
      ]
     },
     "metadata": {},
     "output_type": "display_data"
    },
    {
     "data": {
      "application/vnd.jupyter.widget-view+json": {
       "model_id": "da906c88cc91459ab897e4d38b079220",
       "version_major": 2,
       "version_minor": 0
      },
      "text/plain": [
       "HBox(children=(IntProgress(value=0, description='train', max=8486, style=ProgressStyle(description_width='init…"
      ]
     },
     "metadata": {},
     "output_type": "display_data"
    },
    {
     "data": {
      "application/vnd.jupyter.widget-view+json": {
       "model_id": "f5a3deff836e4c3aaaa3b9e0cb1d99c3",
       "version_major": 2,
       "version_minor": 0
      },
      "text/plain": [
       "HBox(children=(IntProgress(value=0, description='valid', max=947, style=ProgressStyle(description_width='initi…"
      ]
     },
     "metadata": {},
     "output_type": "display_data"
    },
    {
     "name": "stdout",
     "output_type": "stream",
     "text": [
      "GPU is available, transfer model to GPU.\n"
     ]
    }
   ],
   "source": [
    "scores2, model_loss_curves2 = run(models)"
   ]
  },
  {
   "cell_type": "code",
   "execution_count": 43,
   "metadata": {},
   "outputs": [
    {
     "name": "stdout",
     "output_type": "stream",
     "text": [
      "OrderedDict([('DIEN', 0.7780708151545855)])\n"
     ]
    }
   ],
   "source": [
    "print(scores2)"
   ]
  },
  {
   "cell_type": "code",
   "execution_count": 44,
   "metadata": {},
   "outputs": [
    {
     "name": "stdout",
     "output_type": "stream",
     "text": [
      "OrderedDict([('DIEN', [{'train_loss': 0.6435200786944595, 'valid_loss': 0.6058936769884274, 'train_auxiliary_loss': 0.9507109770411276, 'valid_auxiliary_loss': 0.9529147756766867}, {'train_loss': 0.5532998496347418, 'valid_loss': 0.5623541603055653, 'train_auxiliary_loss': 0.9504248710376004, 'valid_auxiliary_loss': 0.9479448593279634}])])\n"
     ]
    }
   ],
   "source": [
    "print(model_loss_curves2)"
   ]
  },
  {
   "cell_type": "code",
   "execution_count": 45,
   "metadata": {},
   "outputs": [],
   "source": [
    "scores = scores1.copy()"
   ]
  },
  {
   "cell_type": "code",
   "execution_count": 46,
   "metadata": {},
   "outputs": [],
   "source": [
    "scores['DIEN'] = scores2['DIEN']"
   ]
  },
  {
   "cell_type": "code",
   "execution_count": 47,
   "metadata": {},
   "outputs": [
    {
     "data": {
      "text/plain": [
       "OrderedDict([('DNN', 0.7414861590544137),\n",
       "             ('WideDeep', 0.7366498651126783),\n",
       "             ('DeepFM', 0.7493579010827383),\n",
       "             ('DIN', 0.7751056232180309),\n",
       "             ('DIEN_gru', 0.7771685541807118),\n",
       "             ('DIEN_aigru', 0.7738427067568526),\n",
       "             ('DIEN_agru', 0.7807896280337772),\n",
       "             ('DIEN_augru', 0.7816471855600924),\n",
       "             ('DIEN', 0.7780708151545855)])"
      ]
     },
     "execution_count": 47,
     "metadata": {},
     "output_type": "execute_result"
    }
   ],
   "source": [
    "scores"
   ]
  },
  {
   "cell_type": "code",
   "execution_count": 48,
   "metadata": {},
   "outputs": [],
   "source": [
    "def autolabel(rects):\n",
    "    \"\"\"\n",
    "    Attach a text label above each bar displaying its height\n",
    "    \"\"\"\n",
    "    for rect in rects:\n",
    "        height = rect.get_height()\n",
    "        ax.text(rect.get_x() + rect.get_width()/2., 1.05*height,\n",
    "                '%f' % height,\n",
    "                ha='center', va='bottom')"
   ]
  },
  {
   "cell_type": "code",
   "execution_count": 49,
   "metadata": {},
   "outputs": [
    {
     "data": {
      "text/plain": [
       "[]"
      ]
     },
     "execution_count": 49,
     "metadata": {},
     "output_type": "execute_result"
    },
    {
     "data": {
      "image/png": "[encoded data removed]",
      "text/plain": [
       "<Figure size 720x360 with 1 Axes>"
      ]
     },
     "metadata": {
      "needs_background": "light"
     },
     "output_type": "display_data"
    }
   ],
   "source": [
    "_, ax = plt.subplots(figsize=(10, 5))\n",
    "rect = ax.bar(list(scores.keys()), list(scores.values()))\n",
    "ax.set_ylabel('AUC')\n",
    "ax.set_ylim(top=0.9)\n",
    "autolabel(rect)\n",
    "plt.plot()"
   ]
  },
  {
   "cell_type": "code",
   "execution_count": null,
   "metadata": {},
   "outputs": [],
   "source": []
  }
 ],
 "metadata": {
  "kernelspec": {
   "display_name": "Python 3",
   "language": "python",
   "name": "python3"
  },
  "language_info": {
   "codemirror_mode": {
    "name": "ipython",
    "version": 3
   },
   "file_extension": ".py",
   "mimetype": "text/x-python",
   "name": "python",
   "nbconvert_exporter": "python",
   "pygments_lexer": "ipython3",
   "version": "3.6.6"
  }
 },
 "nbformat": 4,
 "nbformat_minor": 2
}
